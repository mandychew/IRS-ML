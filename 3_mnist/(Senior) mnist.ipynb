{
 "cells": [
  {
   "cell_type": "code",
   "execution_count": 1,
   "metadata": {
    "collapsed": true
   },
   "outputs": [
    {
     "name": "stdout",
     "output_type": "stream",
     "text": [
      "Model: \"model\"\n",
      "_________________________________________________________________\n",
      " Layer (type)                Output Shape              Param #   \n",
      "=================================================================\n",
      " input_1 (InputLayer)        [(None, 28, 28)]          0         \n",
      "                                                                 \n",
      " flatten (Flatten)           (None, 784)               0         \n",
      "                                                                 \n",
      " dense (Dense)               (None, 256)               200960    \n",
      "                                                                 \n",
      " dropout (Dropout)           (None, 256)               0         \n",
      "                                                                 \n",
      " dense_1 (Dense)             (None, 256)               65792     \n",
      "                                                                 \n",
      " dropout_1 (Dropout)         (None, 256)               0         \n",
      "                                                                 \n",
      " dense_2 (Dense)             (None, 256)               65792     \n",
      "                                                                 \n",
      " dropout_2 (Dropout)         (None, 256)               0         \n",
      "                                                                 \n",
      " dense_3 (Dense)             (None, 10)                2570      \n",
      "                                                                 \n",
      "=================================================================\n",
      "Total params: 335,114\n",
      "Trainable params: 335,114\n",
      "Non-trainable params: 0\n",
      "_________________________________________________________________\n",
      "Epoch 1/30\n",
      "59/59 [==============================] - 5s 19ms/step - loss: 0.4643 - accuracy: 0.8614 - val_loss: 0.1661 - val_accuracy: 0.9478 - lr: 0.0030\n",
      "Epoch 2/30\n",
      "59/59 [==============================] - 2s 42ms/step - loss: 0.1613 - accuracy: 0.9506 - val_loss: 0.1098 - val_accuracy: 0.9641 - lr: 0.0030\n",
      "Epoch 3/30\n",
      "59/59 [==============================] - 0s 6ms/step - loss: 0.1132 - accuracy: 0.9642 - val_loss: 0.0894 - val_accuracy: 0.9710 - lr: 0.0030\n",
      "Epoch 4/30\n",
      "59/59 [==============================] - 0s 5ms/step - loss: 0.0901 - accuracy: 0.9711 - val_loss: 0.0814 - val_accuracy: 0.9735 - lr: 0.0030\n",
      "Epoch 5/30\n",
      "59/59 [==============================] - 0s 5ms/step - loss: 0.0730 - accuracy: 0.9766 - val_loss: 0.0715 - val_accuracy: 0.9774 - lr: 0.0030\n",
      "Epoch 6/30\n",
      "59/59 [==============================] - 0s 5ms/step - loss: 0.0630 - accuracy: 0.9798 - val_loss: 0.0652 - val_accuracy: 0.9807 - lr: 0.0030\n",
      "Epoch 7/30\n",
      "59/59 [==============================] - 0s 5ms/step - loss: 0.0510 - accuracy: 0.9828 - val_loss: 0.0645 - val_accuracy: 0.9815 - lr: 0.0030\n",
      "Epoch 8/30\n",
      "59/59 [==============================] - 0s 5ms/step - loss: 0.0468 - accuracy: 0.9849 - val_loss: 0.0640 - val_accuracy: 0.9809 - lr: 0.0030\n",
      "Epoch 9/30\n",
      "59/59 [==============================] - 0s 5ms/step - loss: 0.0424 - accuracy: 0.9861 - val_loss: 0.0702 - val_accuracy: 0.9811 - lr: 0.0030\n",
      "Epoch 10/30\n",
      "59/59 [==============================] - 0s 5ms/step - loss: 0.0363 - accuracy: 0.9877 - val_loss: 0.0681 - val_accuracy: 0.9800 - lr: 0.0030\n",
      "Epoch 11/30\n",
      "48/59 [=======================>......] - ETA: 0s - loss: 0.0330 - accuracy: 0.9885\n",
      "Epoch 11: ReduceLROnPlateau reducing learning rate to 0.00030000000260770325.\n",
      "59/59 [==============================] - 0s 5ms/step - loss: 0.0335 - accuracy: 0.9884 - val_loss: 0.0655 - val_accuracy: 0.9808 - lr: 0.0030\n",
      "Epoch 12/30\n",
      "59/59 [==============================] - 0s 5ms/step - loss: 0.0240 - accuracy: 0.9921 - val_loss: 0.0570 - val_accuracy: 0.9839 - lr: 3.0000e-04\n",
      "Epoch 13/30\n",
      "59/59 [==============================] - 0s 6ms/step - loss: 0.0179 - accuracy: 0.9941 - val_loss: 0.0556 - val_accuracy: 0.9847 - lr: 3.0000e-04\n",
      "Epoch 14/30\n",
      "59/59 [==============================] - 0s 5ms/step - loss: 0.0163 - accuracy: 0.9947 - val_loss: 0.0551 - val_accuracy: 0.9841 - lr: 3.0000e-04\n",
      "Epoch 15/30\n",
      "59/59 [==============================] - 0s 5ms/step - loss: 0.0151 - accuracy: 0.9949 - val_loss: 0.0548 - val_accuracy: 0.9848 - lr: 3.0000e-04\n",
      "Epoch 16/30\n",
      "59/59 [==============================] - 0s 5ms/step - loss: 0.0147 - accuracy: 0.9948 - val_loss: 0.0552 - val_accuracy: 0.9850 - lr: 3.0000e-04\n",
      "Epoch 17/30\n",
      "59/59 [==============================] - 0s 5ms/step - loss: 0.0136 - accuracy: 0.9952 - val_loss: 0.0543 - val_accuracy: 0.9852 - lr: 3.0000e-04\n",
      "Epoch 18/30\n",
      "59/59 [==============================] - 0s 5ms/step - loss: 0.0130 - accuracy: 0.9955 - val_loss: 0.0556 - val_accuracy: 0.9846 - lr: 3.0000e-04\n",
      "Epoch 19/30\n",
      "59/59 [==============================] - 0s 5ms/step - loss: 0.0132 - accuracy: 0.9954 - val_loss: 0.0557 - val_accuracy: 0.9851 - lr: 3.0000e-04\n",
      "Epoch 20/30\n",
      "48/59 [=======================>......] - ETA: 0s - loss: 0.0135 - accuracy: 0.9953\n",
      "Epoch 20: ReduceLROnPlateau reducing learning rate to 3.000000142492354e-05.\n",
      "59/59 [==============================] - 0s 5ms/step - loss: 0.0133 - accuracy: 0.9954 - val_loss: 0.0576 - val_accuracy: 0.9849 - lr: 3.0000e-04\n",
      "Epoch 21/30\n",
      "59/59 [==============================] - 0s 5ms/step - loss: 0.0118 - accuracy: 0.9962 - val_loss: 0.0567 - val_accuracy: 0.9855 - lr: 3.0000e-05\n",
      "Epoch 22/30\n",
      "59/59 [==============================] - 0s 5ms/step - loss: 0.0117 - accuracy: 0.9962 - val_loss: 0.0564 - val_accuracy: 0.9854 - lr: 3.0000e-05\n"
     ]
    },
    {
     "data": {
      "text/plain": "<keras.callbacks.History at 0x22896498f10>"
     },
     "execution_count": 1,
     "metadata": {},
     "output_type": "execute_result"
    }
   ],
   "source": [
    "import tensorflow as tf\n",
    "from tensorflow.keras.models import Model\n",
    "from tensorflow.keras.layers import *\n",
    "\n",
    "(x_train, y_train), (x_test, y_test) = tf.keras.datasets.mnist.load_data()\n",
    "x_train, x_test = x_train / 255.0, x_test / 255.0  # normalize to between 0-1\n",
    "\n",
    "# model layers\n",
    "xIn = Input((28, 28))\n",
    "x = Flatten()(xIn)\n",
    "x = Dense(256, activation='swish')(x)\n",
    "x = Dropout(0.2)(x)\n",
    "x = Dense(256, activation='swish')(x)\n",
    "x = Dropout(0.2)(x)\n",
    "x = Dense(256, activation='swish')(x)\n",
    "x = Dropout(0.2)(x)\n",
    "xOut = Dense(10)(x)\n",
    "\n",
    "model = Model(inputs=xIn, outputs=xOut)\n",
    "\n",
    "model.compile(\n",
    "    optimizer=tf.keras.optimizers.Adam(3e-3),\n",
    "    loss=tf.keras.losses.SparseCategoricalCrossentropy(from_logits=True),\n",
    "    metrics=['accuracy'])\n",
    "\n",
    "callbacks = [\n",
    "    tf.keras.callbacks.EarlyStopping(monitor='val_loss', patience=5, restore_best_weights=True),\n",
    "    tf.keras.callbacks.ReduceLROnPlateau(monitor='val_loss', factor=0.1, patience=3, verbose=1)\n",
    "]\n",
    "\n",
    "model.summary()\n",
    "model.fit(x_train, y_train, epochs=30, batch_size=1024, validation_data=(x_test, y_test), callbacks=callbacks)"
   ]
  },
  {
   "cell_type": "code",
   "execution_count": 2,
   "outputs": [
    {
     "name": "stdout",
     "output_type": "stream",
     "text": [
      "313/313 [==============================] - 1s 3ms/step - loss: 0.0543 - accuracy: 0.9852\n"
     ]
    },
    {
     "data": {
      "text/plain": "[0.05432068556547165, 0.985200047492981]"
     },
     "execution_count": 2,
     "metadata": {},
     "output_type": "execute_result"
    }
   ],
   "source": [
    "model.save(\"mymodel.h5\")\n",
    "model.evaluate(x_test, y_test)"
   ],
   "metadata": {
    "collapsed": false,
    "pycharm": {
     "name": "#%%\n"
    }
   }
  }
 ],
 "metadata": {
  "kernelspec": {
   "display_name": "Python 3",
   "language": "python",
   "name": "python3"
  },
  "language_info": {
   "codemirror_mode": {
    "name": "ipython",
    "version": 2
   },
   "file_extension": ".py",
   "mimetype": "text/x-python",
   "name": "python",
   "nbconvert_exporter": "python",
   "pygments_lexer": "ipython2",
   "version": "2.7.6"
  }
 },
 "nbformat": 4,
 "nbformat_minor": 0
}