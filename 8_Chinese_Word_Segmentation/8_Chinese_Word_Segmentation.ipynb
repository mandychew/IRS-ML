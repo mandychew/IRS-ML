{
 "cells": [
  {
   "cell_type": "markdown",
   "metadata": {},
   "source": [
    "# Chinese Word Segmentation\n",
    "Using tokenizer, padding and binary classification"
   ]
  },
  {
   "cell_type": "code",
   "execution_count": null,
   "metadata": {},
   "outputs": [],
   "source": [
    "import pandas as pd\n",
    "import numpy as np\n",
    "import matplotlib.pyplot as plt\n",
    "import json\n",
    "import tensorflow as tf\n",
    "import tensorflow_addons as tfa\n",
    "from tensorflow.keras.layers import *\n",
    "from tensorflow.keras.models import Model\n",
    "# import keras_tuner as kt\n",
    "from tensorflow.keras.preprocessing.text import Tokenizer\n",
    "from tensorflow.keras. preprocessing.sequence import pad_sequences"
   ]
  },
  {
   "cell_type": "code",
   "execution_count": null,
   "metadata": {},
   "outputs": [],
   "source": [
    "train = pd.read_csv('C:/Users/mandy/OneDrive/2022 IRS/ML/Datasets/Chinese Word Segmentation/as_training.utf8', names=['data'])\n",
    "print(train.head())"
   ]
  },
  {
   "cell_type": "markdown",
   "metadata": {},
   "source": [
    "## Create data and labels"
   ]
  },
  {
   "cell_type": "code",
   "execution_count": null,
   "metadata": {},
   "outputs": [],
   "source": [
    "y = train['data'].copy()\n",
    "X = train['data'].str.replace('\\u3000', '')\n",
    "print(X.head())\n",
    "print(type(X))\n",
    "print(y.head())"
   ]
  },
  {
   "cell_type": "code",
   "execution_count": null,
   "metadata": {},
   "outputs": [],
   "source": [
    "def create_labels(data):\n",
    "    label = []\n",
    "    index = 0\n",
    "\n",
    "    while index < len(data) - 1:\n",
    "        if data[index + 1] == '\\u3000':\n",
    "            label.append(1)\n",
    "            index += 2\n",
    "        else:\n",
    "            label.append(0)\n",
    "            index += 1\n",
    "            \n",
    "    if index == len(data) - 1:\n",
    "        label.append(1)\n",
    "    return label\n",
    "\n",
    "y = y.apply(create_labels)"
   ]
  },
  {
   "cell_type": "code",
   "execution_count": null,
   "metadata": {},
   "outputs": [],
   "source": [
    "print(y)\n",
    "print(type(y))"
   ]
  },
  {
   "cell_type": "markdown",
   "metadata": {},
   "source": [
    "## Tokenization and Padding"
   ]
  },
  {
   "cell_type": "code",
   "execution_count": null,
   "metadata": {},
   "outputs": [],
   "source": [
    "tokenizer = Tokenizer(oov_token='<OOV>', split='\\u3000', char_level=True)\n",
    "tokenizer.fit_on_texts(train['data'])\n",
    "char_index = tokenizer.word_index\n",
    "total_chars = len(json.loads(tokenizer.get_config()['word_counts']))"
   ]
  },
  {
   "cell_type": "code",
   "execution_count": null,
   "metadata": {},
   "outputs": [],
   "source": [
    "print(list(char_index.keys())[:100])\n",
    "print(len(char_index))"
   ]
  },
  {
   "cell_type": "code",
   "execution_count": null,
   "metadata": {},
   "outputs": [],
   "source": [
    "max_length = X.str.len().max() # 188\n",
    "# trunc_type = 'post'\n",
    "padding = 'pre'\n",
    "\n",
    "X_sequences = tokenizer.texts_to_sequences(X)\n",
    "padded_X = pad_sequences(X_sequences, maxlen=max_length, padding=padding)\n",
    "padded_y = pad_sequences(y, maxlen=max_length, padding=padding)\n",
    "print(padded_X[1])\n",
    "print(padded_X.shape)"
   ]
  },
  {
   "cell_type": "code",
   "execution_count": null,
   "metadata": {},
   "outputs": [],
   "source": [
    "embedding_dim = 256\n",
    "\n",
    "xIn = Input(shape=(max_length,))\n",
    "x = Embedding(total_chars, embedding_dim, mask_zero=True)(xIn) # mask_zero will ignore timestamps with 0 (aka ignoring the padding)\n",
    "x = Bidirectional(LSTM(128, return_sequences=True))(x)\n",
    "x = Bidirectional(LSTM(128, return_sequences=True))(x)\n",
    "x = Bidirectional(LSTM(128, return_sequences=True))(x)\n",
    "\n",
    "# x = Flatten()(x) don't need to flatten, just put output layer as 2 neurons\n",
    "# x = Dense(64, activation='swish')(x)\n",
    "# x = Dense(64, activation='swish')(x)\n",
    "x = Dense(64, activation='swish')(x)\n",
    "# x = Dense(64, activation='swish')(x)\n",
    "xOut = Dense(2, activation='linear')(x) # softmax is computed by loss function, so don't use activation=\"softmax\" here\n",
    "\n",
    "model = Model(inputs=xIn, outputs=xOut)\n",
    "model.summary()"
   ]
  },
  {
   "cell_type": "code",
   "execution_count": null,
   "metadata": {},
   "outputs": [],
   "source": [
    "class MaskedSequenceLoss(losses.Loss):\n",
    "    def __init__(\n",
    "        self,\n",
    "        average_across_timesteps=False,\n",
    "        average_across_batch=False,\n",
    "        sum_over_timesteps=True,\n",
    "        sum_over_batch=True,\n",
    "        softmax_loss_function=None,\n",
    "        name=None,\n",
    "        reduction=None, # dummy arg so it can be used as custom object when loading saved model\n",
    "    ):\n",
    "        super().__init__()\n",
    "        self.opts = {\n",
    "            \"average_across_timesteps\": average_across_timesteps,\n",
    "            \"average_across_batch\": average_across_batch,\n",
    "            \"sum_over_timesteps\": sum_over_timesteps,\n",
    "            \"sum_over_batch\": sum_over_batch,\n",
    "            \"softmax_loss_function\": softmax_loss_function,\n",
    "            \"name\": name,\n",
    "        }\n",
    "    \n",
    "    def call(self, y_true, y_pred):\n",
    "        return tfa.seq2seq.sequence_loss(y_pred, y_true,\n",
    "                                         weights=tf.cast(y_pred._keras_mask, tf.float32) if hasattr(y_pred, \"_keras_mask\") else tf.ones(y_true.shape),\n",
    "                                         **self.opts)\n",
    "\n",
    "def binary_crossentropy_arg_names_changed(labels, logits):\n",
    "#     print(labels.numpy(), logits.numpy())\n",
    "    output = tf.nn.sigmoid_cross_entropy_with_logits(tf.cast(labels, tf.float32)[..., tf.newaxis], logits)\n",
    "    print(output)\n",
    "    return output\n",
    "\n",
    "model.compile(optimizer='adam', loss=MaskedSequenceLoss(), metrics=['acc'])"
   ]
  },
  {
   "cell_type": "code",
   "execution_count": null,
   "metadata": {},
   "outputs": [],
   "source": [
    "epochs = 100\n",
    "\n",
    "callbacks = [\n",
    "    tf.keras.callbacks.ModelCheckpoint('./8_best_model', monitor='acc', save_best_only=True),\n",
    "    tf.keras.callbacks.EarlyStopping(monitor='acc', patience=5, restore_best_weights=True),\n",
    "    tf.keras.callbacks.ReduceLROnPlateau(monitor='acc', factor=0.1, patience=3, verbose=1)\n",
    "]\n",
    "\n",
    "padded_X = tf.convert_to_tensor(padded_X)\n",
    "padded_y = tf.convert_to_tensor(padded_y)\n",
    "print(type(padded_y))\n",
    "history = model.fit(padded_X, padded_y, batch_size=512, epochs=epochs, validation_split=0.2, callbacks=callbacks, use_multiprocessing=True)"
   ]
  },
  {
   "cell_type": "markdown",
   "metadata": {},
   "source": [
    "## Evaluate model"
   ]
  },
  {
   "cell_type": "code",
   "execution_count": null,
   "metadata": {},
   "outputs": [],
   "source": [
    "# custom_objects = { \"MaskedSequenceLoss\": MaskedSequenceLoss }\n",
    "# with tf.keras.utils.custom_object_scope(custom_objects):\n",
    "#     model = tf.keras.models.load_model(\"saved-models/bidirectional-lstm/epoch8_valloss0.0042\")"
   ]
  },
  {
   "cell_type": "markdown",
   "metadata": {},
   "source": [
    "## Save Model"
   ]
  },
  {
   "cell_type": "code",
   "execution_count": null,
   "metadata": {},
   "outputs": [],
   "source": [
    "import datetime as dt\n",
    "dtime = dt.time()\n",
    "now = dt.datetime.now()\n",
    "now.strftime(\"%Y-%m-%d %H-%M-%S\")\n",
    "\n",
    "model.save(f'8_Chinese_Word_Segmentation/8_saved_models/{now}.h5')"
   ]
  }
 ],
 "metadata": {
  "interpreter": {
   "hash": "6425117d13823fa8044a2c07c859b613f2362d94b282c9a4162ba20339fd2c4d"
  },
  "kernelspec": {
   "display_name": "Python 3.9.12 64-bit",
   "language": "python",
   "name": "python3"
  },
  "language_info": {
   "codemirror_mode": {
    "name": "ipython",
    "version": 3
   },
   "file_extension": ".py",
   "mimetype": "text/x-python",
   "name": "python",
   "nbconvert_exporter": "python",
   "pygments_lexer": "ipython3",
   "version": "3.9.12"
  },
  "orig_nbformat": 4
 },
 "nbformat": 4,
 "nbformat_minor": 2
}
