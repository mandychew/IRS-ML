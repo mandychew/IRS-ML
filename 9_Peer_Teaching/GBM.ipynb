{
 "cells": [
  {
   "cell_type": "code",
   "execution_count": null,
   "metadata": {},
   "outputs": [],
   "source": [
    "X=pd.DataFrame({'LikesExercising':[False,False,False,True,False,True,True,True,True],\n",
    "                'GotoGym':[True,True,True,True,True,False,True,False,False],\n",
    "                 'DrivesCar':[True,False,False,True,True,False,True,False,True]})\n",
    "Y=pd.Series(name='Age',data=[14,15,16,26,36,50,69,72,74])"
   ]
  }
 ],
 "metadata": {
  "language_info": {
   "name": "python"
  },
  "orig_nbformat": 4
 },
 "nbformat": 4,
 "nbformat_minor": 2
}
