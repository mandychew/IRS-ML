{
 "cells": [
  {
   "cell_type": "code",
   "execution_count": 1,
   "metadata": {},
   "outputs": [],
   "source": [
    "import pandas as pd\n",
    "from sklearn.ensemble import GradientBoostingRegressor\n",
    "from sklearn.preprocessing import LabelEncoder"
   ]
  },
  {
   "cell_type": "code",
   "execution_count": 2,
   "metadata": {},
   "outputs": [],
   "source": [
    "X = pd.DataFrame({'LikesExercising': [False,False,False,True,False,True,True,True,True],\n",
    "                'GotoGym': [True,True,True,True,True,False,True,False,False],\n",
    "                 'DrivesCar': [True,False,False,True,True,False,True,False,True]})\n",
    "Y = pd.Series(name = 'Age',data = [14,15,16,26,36,50,69,72,74])"
   ]
  },
  {
   "cell_type": "code",
   "execution_count": 3,
   "metadata": {},
   "outputs": [],
   "source": [
    "LE = LabelEncoder()\n",
    "X['LikesExercising'] = LE.fit_transform(X['LikesExercising'])\n",
    "X['GotoGym'] = LE.fit_transform(X['GotoGym'])\n",
    "X['DrivesCar'] = LE.fit_transform(X['DrivesCar'])"
   ]
  },
  {
   "cell_type": "code",
   "execution_count": 6,
   "metadata": {},
   "outputs": [
    {
     "data": {
      "text/plain": [
       "array([36.907 , 34.3325, 34.3325, 43.0045, 36.907 , 46.663 , 43.0045,\n",
       "       46.663 , 50.186 ])"
      ]
     },
     "execution_count": 6,
     "metadata": {},
     "output_type": "execute_result"
    }
   ],
   "source": [
    "GB = GradientBoostingRegressor(n_estimators=3)\n",
    "GB.fit(X,Y)\n",
    "Y_predict = GB.predict(X)\n",
    "Y_predict"
   ]
  },
  {
   "cell_type": "code",
   "execution_count": 7,
   "metadata": {},
   "outputs": [
    {
     "name": "stdout",
     "output_type": "stream",
     "text": [
      "MSE for 3 estimators: 380.05602055555556\n"
     ]
    }
   ],
   "source": [
    "MSE_3 = (sum((Y-Y_predict) ** 2)) / len(Y)\n",
    "print('MSE for 3 estimators:', MSE_3)"
   ]
  },
  {
   "cell_type": "markdown",
   "metadata": {},
   "source": [
    "MSE reduces as we increase estimator value. But as we increase more and more, the decrease in MSE becomes less significant  \n",
    "To find best number of estimators, use GridSearchCV"
   ]
  },
  {
   "cell_type": "code",
   "execution_count": 8,
   "metadata": {},
   "outputs": [],
   "source": [
    "from sklearn.model_selection import GridSearchCV"
   ]
  },
  {
   "cell_type": "code",
   "execution_count": 9,
   "metadata": {},
   "outputs": [
    {
     "name": "stdout",
     "output_type": "stream",
     "text": [
      "The best estimator returned by GridSearchCV is GradientBoostingRegressor(n_estimators=19)\n"
     ]
    }
   ],
   "source": [
    "model = GradientBoostingRegressor()\n",
    "params = {'n_estimators': range(1, 200)}\n",
    "grid = GridSearchCV(estimator= model, cv=2, param_grid=params, scoring='neg_mean_squared_error')\n",
    "grid.fit(X, Y)\n",
    "print('The best estimator returned by GridSearchCV is', grid.best_estimator_)"
   ]
  },
  {
   "cell_type": "code",
   "execution_count": 10,
   "metadata": {},
   "outputs": [
    {
     "data": {
      "text/plain": [
       "array([27.20639114, 18.98970027, 18.98970027, 46.66697477, 27.20639114,\n",
       "       58.34332496, 46.66697477, 58.34332496, 69.58721772])"
      ]
     },
     "execution_count": 10,
     "metadata": {},
     "output_type": "execute_result"
    }
   ],
   "source": [
    "GB = grid.best_estimator_\n",
    "GB.fit(X, Y)\n",
    "Y_predict = GB.predict(X)\n",
    "Y_predict"
   ]
  },
  {
   "cell_type": "code",
   "execution_count": 11,
   "metadata": {},
   "outputs": [
    {
     "name": "stdout",
     "output_type": "stream",
     "text": [
      "MSE for best no. of estimators: 164.2298548605391\n"
     ]
    }
   ],
   "source": [
    "MSE_best = (sum((Y-Y_predict) ** 2)) / len(Y)\n",
    "print('MSE for best no. of estimators:', MSE_best)\n",
    "# although MSE value is not the best value, it is the most efficient and is close enough to the best it can be"
   ]
  }
 ],
 "metadata": {
  "kernelspec": {
   "display_name": "Python 3.6.4 64-bit",
   "language": "python",
   "name": "python3"
  },
  "language_info": {
   "codemirror_mode": {
    "name": "ipython",
    "version": 3
   },
   "file_extension": ".py",
   "mimetype": "text/x-python",
   "name": "python",
   "nbconvert_exporter": "python",
   "pygments_lexer": "ipython3",
   "version": "3.6.4"
  },
  "orig_nbformat": 4,
  "vscode": {
   "interpreter": {
    "hash": "f4e9cda46bb2d9d7fe6ecdff0f8336a934348bf06cb492f2f42f60739b3403b4"
   }
  }
 },
 "nbformat": 4,
 "nbformat_minor": 2
}
