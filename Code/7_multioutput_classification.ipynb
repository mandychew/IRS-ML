{
 "cells": [
  {
   "cell_type": "markdown",
   "metadata": {},
   "source": [
    "# Using multi-output model to classify Delhi Weather Data\n",
    "Task: predict 4 weather metrics into the future - mean temperature, humidity, wind speed and mean pressure - and classify comfort (comfortable = 1, not comfortable = 0)  "
   ]
  },
  {
   "cell_type": "code",
   "execution_count": 2,
   "metadata": {},
   "outputs": [],
   "source": [
    "import pandas as pd\n",
    "import numpy as np\n",
    "import matplotlib.pyplot as plt\n",
    "import tensorflow as tf\n",
    "from tensorflow.keras.layers import *\n",
    "from tensorflow.keras.models import Model\n",
    "import keras_tuner as kt"
   ]
  },
  {
   "cell_type": "markdown",
   "metadata": {},
   "source": [
    "## Process train and test data"
   ]
  },
  {
   "cell_type": "code",
   "execution_count": 3,
   "metadata": {},
   "outputs": [
    {
     "data": {
      "text/plain": [
       "(1462, 5)"
      ]
     },
     "execution_count": 3,
     "metadata": {},
     "output_type": "execute_result"
    }
   ],
   "source": [
    "train = pd.read_csv('C:/Users/mandy/OneDrive/2022 IRS/ML/Datasets/Delhi Climate/DailyDelhiClimateTrain.csv', index_col=0)\n",
    "train.shape"
   ]
  },
  {
   "cell_type": "code",
   "execution_count": 4,
   "metadata": {},
   "outputs": [
    {
     "data": {
      "text/plain": [
       "(114, 5)"
      ]
     },
     "execution_count": 4,
     "metadata": {},
     "output_type": "execute_result"
    }
   ],
   "source": [
    "test = pd.read_csv('C:/Users/mandy/OneDrive/2022 IRS/ML/Datasets/Delhi Climate/DailyDelhiClimateTest.csv', index_col = 0)\n",
    "test.shape"
   ]
  },
  {
   "cell_type": "code",
   "execution_count": 5,
   "metadata": {},
   "outputs": [],
   "source": [
    "def normalise(data, min, max):\n",
    "    data = data - min\n",
    "    data = data / max\n",
    "    return data\n",
    "\n",
    "train = train.values\n",
    "train_normed = normalise(train, train.min(axis=0), train.max(axis=0))\n",
    "test = test.values\n",
    "test_normed = normalise(test, train.min(axis=0), train.max(axis=0))"
   ]
  },
  {
   "cell_type": "markdown",
   "metadata": {},
   "source": [
    "## Plot train data"
   ]
  },
  {
   "cell_type": "code",
   "execution_count": 6,
   "metadata": {},
   "outputs": [
    {
     "data": {
      "image/png": "[encoded data removed]",
      "text/plain": [
       "<Figure size 432x288 with 4 Axes>"
      ]
     },
     "metadata": {
      "needs_background": "light"
     },
     "output_type": "display_data"
    }
   ],
   "source": [
    "# fig, ax = plt.subplots(2, 2)\n",
    "# # fig.suptitle('Delhi Weather Features')\n",
    "# ax[0, 0].plot(range(len(train['meantemp'])), train['meantemp'])\n",
    "# ax[0, 0].set_title('Mean Temperature')\n",
    "# ax[0, 1].plot(range(len(train['humidity'])), train['humidity'])\n",
    "# ax[0, 1].set_title('Humidity')\n",
    "# ax[1, 0].plot(range(len(train['wind_speed'])), train['wind_speed'])\n",
    "# ax[1, 0].set_title('Wind Speed')\n",
    "# ax[1, 1].plot(range(len(train['meanpressure'])), train['meanpressure'])\n",
    "# ax[1, 1].set_title('Mean Pressure')\n",
    "\n",
    "# plt.subplots_adjust(left = 0.1, bottom=0.1, right=0.9, top=0.9, wspace=0.4, hspace=0.4)\n",
    "# plt.show()"
   ]
  },
  {
   "cell_type": "markdown",
   "metadata": {},
   "source": [
    "## Create features and labels"
   ]
  },
  {
   "cell_type": "code",
   "execution_count": 7,
   "metadata": {},
   "outputs": [],
   "source": [
    "def windowed_dataset(series, n_past, n_future, batch_size, shift=1):\n",
    "\n",
    "    # n_past = number of timesteps to look back (x or input to model)\n",
    "    # n_future = number of timesteps to predict (y or output of model)\n",
    "\n",
    "    dataset = tf.data.Dataset.from_tensor_slices(series)\n",
    "    dataset = dataset.window(size=n_past + n_future, shift=shift, drop_remainder=True)\n",
    "    dataset = dataset.flat_map(lambda window: window.batch(n_past + n_future)) # flat_map returns a non-iterable, unlike map which returns a list\n",
    "    dataset = dataset.map(lambda window: (window[:n_past, :-1], (window[:n_past, :-1], window[n_past:, -1])))\n",
    "    dataset = dataset.batch(batch_size).prefetch(1)\n",
    "    return dataset\n",
    "\n",
    "batch_size = 32 # affects performance, but impact is not straightforward (i.e. larger batch_size =/= better performance)\n",
    "n_past = 10\n",
    "n_future = 1\n",
    "shift = 1\n",
    "\n",
    "test_ds = windowed_dataset(series=test_normed, batch_size=batch_size, n_past=n_past, n_future=n_future, shift=shift)\n",
    "train_ds = windowed_dataset(series=train_normed, batch_size=batch_size, n_past=n_past, n_future=n_future, shift=shift)"
   ]
  },
  {
   "cell_type": "code",
   "execution_count": 8,
   "metadata": {},
   "outputs": [
    {
     "name": "stdout",
     "output_type": "stream",
     "text": [
      "(32, 10, 4) [(32, 10, 4), (32, 1)]\n",
      "(32, 10, 4) [(32, 10, 4), (32, 1)]\n",
      "(32, 10, 4) [(32, 10, 4), (32, 1)]\n",
      "(8, 10, 4) [(8, 10, 4), (8, 1)]\n",
      "\n",
      "(32, 10, 4) [(32, 10, 4), (32, 1)]\n",
      "(32, 10, 4) [(32, 10, 4), (32, 1)]\n",
      "(32, 10, 4) [(32, 10, 4), (32, 1)]\n",
      "(32, 10, 4) [(32, 10, 4), (32, 1)]\n",
      "(32, 10, 4) [(32, 10, 4), (32, 1)]\n",
      "(32, 10, 4) [(32, 10, 4), (32, 1)]\n",
      "(32, 10, 4) [(32, 10, 4), (32, 1)]\n",
      "(32, 10, 4) [(32, 10, 4), (32, 1)]\n",
      "(32, 10, 4) [(32, 10, 4), (32, 1)]\n",
      "(32, 10, 4) [(32, 10, 4), (32, 1)]\n",
      "(32, 10, 4) [(32, 10, 4), (32, 1)]\n",
      "(32, 10, 4) [(32, 10, 4), (32, 1)]\n",
      "(32, 10, 4) [(32, 10, 4), (32, 1)]\n",
      "(32, 10, 4) [(32, 10, 4), (32, 1)]\n",
      "(32, 10, 4) [(32, 10, 4), (32, 1)]\n",
      "(32, 10, 4) [(32, 10, 4), (32, 1)]\n",
      "(32, 10, 4) [(32, 10, 4), (32, 1)]\n",
      "(32, 10, 4) [(32, 10, 4), (32, 1)]\n",
      "(32, 10, 4) [(32, 10, 4), (32, 1)]\n",
      "(32, 10, 4) [(32, 10, 4), (32, 1)]\n",
      "(32, 10, 4) [(32, 10, 4), (32, 1)]\n",
      "(32, 10, 4) [(32, 10, 4), (32, 1)]\n",
      "(32, 10, 4) [(32, 10, 4), (32, 1)]\n",
      "(32, 10, 4) [(32, 10, 4), (32, 1)]\n",
      "(32, 10, 4) [(32, 10, 4), (32, 1)]\n",
      "(32, 10, 4) [(32, 10, 4), (32, 1)]\n",
      "(32, 10, 4) [(32, 10, 4), (32, 1)]\n",
      "(32, 10, 4) [(32, 10, 4), (32, 1)]\n",
      "(32, 10, 4) [(32, 10, 4), (32, 1)]\n",
      "(32, 10, 4) [(32, 10, 4), (32, 1)]\n",
      "(32, 10, 4) [(32, 10, 4), (32, 1)]\n",
      "(32, 10, 4) [(32, 10, 4), (32, 1)]\n",
      "(32, 10, 4) [(32, 10, 4), (32, 1)]\n",
      "(32, 10, 4) [(32, 10, 4), (32, 1)]\n",
      "(32, 10, 4) [(32, 10, 4), (32, 1)]\n",
      "(32, 10, 4) [(32, 10, 4), (32, 1)]\n",
      "(32, 10, 4) [(32, 10, 4), (32, 1)]\n",
      "(32, 10, 4) [(32, 10, 4), (32, 1)]\n",
      "(32, 10, 4) [(32, 10, 4), (32, 1)]\n",
      "(32, 10, 4) [(32, 10, 4), (32, 1)]\n",
      "(32, 10, 4) [(32, 10, 4), (32, 1)]\n",
      "(32, 10, 4) [(32, 10, 4), (32, 1)]\n",
      "(32, 10, 4) [(32, 10, 4), (32, 1)]\n",
      "(32, 10, 4) [(32, 10, 4), (32, 1)]\n",
      "(32, 10, 4) [(32, 10, 4), (32, 1)]\n",
      "(12, 10, 4) [(12, 10, 4), (12, 1)]\n"
     ]
    }
   ],
   "source": [
    "def windowed_dataset_structure(dataset):\n",
    "    for x, (p, c) in dataset:\n",
    "        print(np.array(x).shape, [np.array(p).shape, np.array(c).shape])\n",
    "\n",
    "windowed_dataset_structure(test_ds)\n",
    "print()\n",
    "windowed_dataset_structure(train_ds)"
   ]
  },
  {
   "cell_type": "markdown",
   "metadata": {},
   "source": [
    "## Build Model"
   ]
  },
  {
   "cell_type": "code",
   "execution_count": 17,
   "metadata": {},
   "outputs": [
    {
     "name": "stdout",
     "output_type": "stream",
     "text": [
      "Model: \"model_2\"\n",
      "_________________________________________________________________\n",
      " Layer (type)                Output Shape              Param #   \n",
      "=================================================================\n",
      " input_3 (InputLayer)        [(None, 10, 4)]           0         \n",
      "                                                                 \n",
      " lstm_5 (LSTM)               (None, 10, 64)            17664     \n",
      "                                                                 \n",
      " lstm_6 (LSTM)               (None, 10, 64)            33024     \n",
      "                                                                 \n",
      " dense_6 (Dense)             (None, 10, 64)            4160      \n",
      "                                                                 \n",
      " dense_7 (Dense)             (None, 10, 64)            4160      \n",
      "                                                                 \n",
      " lstm_7 (LSTM)               (None, 10, 4)             1104      \n",
      "                                                                 \n",
      " weather_output (Dense)      (None, 10, 1)             5         \n",
      "                                                                 \n",
      " flatten_2 (Flatten)         (None, 10)                0         \n",
      "                                                                 \n",
      " dense_8 (Dense)             (None, 64)                704       \n",
      "                                                                 \n",
      " comfort_output (Dense)      (None, 1)                 65        \n",
      "                                                                 \n",
      "=================================================================\n",
      "Total params: 60,886\n",
      "Trainable params: 60,886\n",
      "Non-trainable params: 0\n",
      "_________________________________________________________________\n"
     ]
    }
   ],
   "source": [
    "xIn = Input((n_past, 4))\n",
    "x = LSTM(64, return_sequences=True)(xIn) # set return_sequences = True if there's an LSTM layer afterwards\n",
    "x = LSTM(64, return_sequences=True)(x)\n",
    "\n",
    "x = Dense(64, activation='swish')(x)\n",
    "x = Dense(64, activation='swish')(x)\n",
    "\n",
    "# meantemp_output = Dense(n_future, activation='swish', name='meantemp_output')(x)\n",
    "\n",
    "# humidity_output = Dense(n_future, activation='swish', name='humidity_output')(x)\n",
    "\n",
    "# wind_speed_output = Dense(n_future, activation='swish', name='wind_speed_output')(x)\n",
    "\n",
    "# meanpressure_output = Dense(n_future, activation='swish', name='meanpressure_output')(x)\n",
    "x = LSTM(4, return_sequences=True)(x)\n",
    "weather_output = Dense(n_future, activation='swish', name='weather_output')(x)\n",
    "\n",
    "x = Flatten()(weather_output)\n",
    "x = Dense(64, activation='swish')(x)\n",
    "\n",
    "comfort_output = Dense(n_future, activation='sigmoid', name='comfort_output')(x)\n",
    "\n",
    "model = Model(inputs=xIn, outputs=[weather_output, comfort_output])\n",
    "model.compile(optimizer='adam', \n",
    "              loss={\n",
    "                  'weather_output': 'mse', \n",
    "                  'comfort_output': 'binary_crossentropy'},\n",
    "              loss_weights={\n",
    "                  'weather_output': 1,\n",
    "                  'comfort_output': 2},\n",
    "              metrics={\n",
    "                  'weather_output': 'mse', \n",
    "                  'comfort_output': 'accuracy'})\n",
    "model.summary()"
   ]
  },
  {
   "cell_type": "code",
   "execution_count": null,
   "metadata": {},
   "outputs": [],
   "source": [
    "# xIn = Input((n_past, 5))\n",
    "# x = LSTM(64, return_sequences=True)(xIn) # set return_sequences = True if there's an LSTM layer afterwards\n",
    "# x = LSTM(64)(x)\n",
    "# x = Flatten()(x) # alternative: GlobalAvgPool2D() - may lose some accuracy, but smaller output shape than Flatten()\n",
    "\n",
    "# x = Dense(64, activation='swish')(x)\n",
    "# x = Dense(64, activation='swish')(x)\n",
    "\n",
    "# meantemp_output = Dense(1, activation='swish', name='meantemp_output')(x)\n",
    "\n",
    "# humidity_output = Dense(1, activation='swish', name='humidity_output')(x)\n",
    "\n",
    "# wind_speed_output = Dense(1, activation='swish', name='wind_speed_output')(x)\n",
    "\n",
    "# meanpressure_output = Dense(1, activation='swish', name='meanpressure_output')(x)\n",
    "\n",
    "# comfort_output = Dense(1, activation='sigmoid', name='comfort_output')(x)\n",
    "\n",
    "# xOut = Concatenate()([meantemp_output, humidity_output, wind_speed_output, meanpressure_output, comfort_output])\n",
    "\n",
    "# model = Model(inputs=xIn, outputs=xOut)\n",
    "# model.compile(optimizer='adam', \n",
    "#               loss={\n",
    "#                   'meantemp_output': 'mse', \n",
    "#                   'humidity_output': 'mse', \n",
    "#                   'wind_speed_output': 'mse', \n",
    "#                   'meanpressure_output': 'mse', \n",
    "#                   'comfort_output': 'binary_crossentropy'},\n",
    "#               metrics={\n",
    "#                   'meantemp_output': 'mse', \n",
    "#                   'humidity_output': 'mse', \n",
    "#                   'wind_speed_output': 'mse', \n",
    "#                   'meanpressure_output': 'mse', \n",
    "#                   'comfort_output': 'accuracy'})\n",
    "# model.summary()"
   ]
  },
  {
   "cell_type": "code",
   "execution_count": 18,
   "metadata": {},
   "outputs": [
    {
     "name": "stdout",
     "output_type": "stream",
     "text": [
      "Epoch 1/30\n",
      "     46/Unknown - 8s 30ms/step - loss: 0.6936 - weather_output_loss: 0.0910 - comfort_output_loss: 0.6026 - weather_output_mse: 0.0910 - comfort_output_accuracy: 0.7610"
     ]
    },
    {
     "name": "stderr",
     "output_type": "stream",
     "text": [
      "WARNING:absl:Found untraced functions such as lstm_cell_5_layer_call_fn, lstm_cell_5_layer_call_and_return_conditional_losses, lstm_cell_6_layer_call_fn, lstm_cell_6_layer_call_and_return_conditional_losses, lstm_cell_7_layer_call_fn while saving (showing 5 of 6). These functions will not be directly callable after loading.\n"
     ]
    },
    {
     "name": "stdout",
     "output_type": "stream",
     "text": [
      "INFO:tensorflow:Assets written to: .\\7_best_model\\assets\n"
     ]
    },
    {
     "name": "stderr",
     "output_type": "stream",
     "text": [
      "INFO:tensorflow:Assets written to: .\\7_best_model\\assets\n",
      "WARNING:absl:<keras.layers.recurrent.LSTMCell object at 0x000001C7347D7880> has the same name 'LSTMCell' as a built-in Keras object. Consider renaming <class 'keras.layers.recurrent.LSTMCell'> to avoid naming conflicts when loading with `tf.keras.models.load_model`. If renaming is not possible, pass the object in the `custom_objects` parameter of the load function.\n",
      "WARNING:absl:<keras.layers.recurrent.LSTMCell object at 0x000001C738EECF40> has the same name 'LSTMCell' as a built-in Keras object. Consider renaming <class 'keras.layers.recurrent.LSTMCell'> to avoid naming conflicts when loading with `tf.keras.models.load_model`. If renaming is not possible, pass the object in the `custom_objects` parameter of the load function.\n",
      "WARNING:absl:<keras.layers.recurrent.LSTMCell object at 0x000001C73232C5E0> has the same name 'LSTMCell' as a built-in Keras object. Consider renaming <class 'keras.layers.recurrent.LSTMCell'> to avoid naming conflicts when loading with `tf.keras.models.load_model`. If renaming is not possible, pass the object in the `custom_objects` parameter of the load function.\n"
     ]
    },
    {
     "name": "stdout",
     "output_type": "stream",
     "text": [
      "46/46 [==============================] - 24s 380ms/step - loss: 0.6936 - weather_output_loss: 0.0910 - comfort_output_loss: 0.6026 - weather_output_mse: 0.0910 - comfort_output_accuracy: 0.7610 - val_loss: 0.6139 - val_weather_output_loss: 0.0489 - val_comfort_output_loss: 0.5651 - val_weather_output_mse: 0.0489 - val_comfort_output_accuracy: 0.7596 - lr: 0.0010\n",
      "Epoch 2/30\n",
      "45/46 [============================>.] - ETA: 0s - loss: 0.6086 - weather_output_loss: 0.0665 - comfort_output_loss: 0.5421 - weather_output_mse: 0.0665 - comfort_output_accuracy: 0.7771"
     ]
    },
    {
     "name": "stderr",
     "output_type": "stream",
     "text": [
      "WARNING:absl:Found untraced functions such as lstm_cell_5_layer_call_fn, lstm_cell_5_layer_call_and_return_conditional_losses, lstm_cell_6_layer_call_fn, lstm_cell_6_layer_call_and_return_conditional_losses, lstm_cell_7_layer_call_fn while saving (showing 5 of 6). These functions will not be directly callable after loading.\n"
     ]
    },
    {
     "name": "stdout",
     "output_type": "stream",
     "text": [
      "INFO:tensorflow:Assets written to: .\\7_best_model\\assets\n"
     ]
    },
    {
     "name": "stderr",
     "output_type": "stream",
     "text": [
      "INFO:tensorflow:Assets written to: .\\7_best_model\\assets\n",
      "WARNING:absl:<keras.layers.recurrent.LSTMCell object at 0x000001C7347D7880> has the same name 'LSTMCell' as a built-in Keras object. Consider renaming <class 'keras.layers.recurrent.LSTMCell'> to avoid naming conflicts when loading with `tf.keras.models.load_model`. If renaming is not possible, pass the object in the `custom_objects` parameter of the load function.\n",
      "WARNING:absl:<keras.layers.recurrent.LSTMCell object at 0x000001C738EECF40> has the same name 'LSTMCell' as a built-in Keras object. Consider renaming <class 'keras.layers.recurrent.LSTMCell'> to avoid naming conflicts when loading with `tf.keras.models.load_model`. If renaming is not possible, pass the object in the `custom_objects` parameter of the load function.\n",
      "WARNING:absl:<keras.layers.recurrent.LSTMCell object at 0x000001C73232C5E0> has the same name 'LSTMCell' as a built-in Keras object. Consider renaming <class 'keras.layers.recurrent.LSTMCell'> to avoid naming conflicts when loading with `tf.keras.models.load_model`. If renaming is not possible, pass the object in the `custom_objects` parameter of the load function.\n"
     ]
    },
    {
     "name": "stdout",
     "output_type": "stream",
     "text": [
      "46/46 [==============================] - 15s 323ms/step - loss: 0.6065 - weather_output_loss: 0.0663 - comfort_output_loss: 0.5402 - weather_output_mse: 0.0663 - comfort_output_accuracy: 0.7789 - val_loss: 0.5962 - val_weather_output_loss: 0.0433 - val_comfort_output_loss: 0.5529 - val_weather_output_mse: 0.0433 - val_comfort_output_accuracy: 0.7596 - lr: 0.0010\n",
      "Epoch 3/30\n",
      "46/46 [==============================] - ETA: 0s - loss: 0.5943 - weather_output_loss: 0.0599 - comfort_output_loss: 0.5344 - weather_output_mse: 0.0599 - comfort_output_accuracy: 0.7789"
     ]
    },
    {
     "name": "stderr",
     "output_type": "stream",
     "text": [
      "WARNING:absl:Found untraced functions such as lstm_cell_5_layer_call_fn, lstm_cell_5_layer_call_and_return_conditional_losses, lstm_cell_6_layer_call_fn, lstm_cell_6_layer_call_and_return_conditional_losses, lstm_cell_7_layer_call_fn while saving (showing 5 of 6). These functions will not be directly callable after loading.\n"
     ]
    },
    {
     "name": "stdout",
     "output_type": "stream",
     "text": [
      "INFO:tensorflow:Assets written to: .\\7_best_model\\assets\n"
     ]
    },
    {
     "name": "stderr",
     "output_type": "stream",
     "text": [
      "INFO:tensorflow:Assets written to: .\\7_best_model\\assets\n",
      "WARNING:absl:<keras.layers.recurrent.LSTMCell object at 0x000001C7347D7880> has the same name 'LSTMCell' as a built-in Keras object. Consider renaming <class 'keras.layers.recurrent.LSTMCell'> to avoid naming conflicts when loading with `tf.keras.models.load_model`. If renaming is not possible, pass the object in the `custom_objects` parameter of the load function.\n",
      "WARNING:absl:<keras.layers.recurrent.LSTMCell object at 0x000001C738EECF40> has the same name 'LSTMCell' as a built-in Keras object. Consider renaming <class 'keras.layers.recurrent.LSTMCell'> to avoid naming conflicts when loading with `tf.keras.models.load_model`. If renaming is not possible, pass the object in the `custom_objects` parameter of the load function.\n",
      "WARNING:absl:<keras.layers.recurrent.LSTMCell object at 0x000001C73232C5E0> has the same name 'LSTMCell' as a built-in Keras object. Consider renaming <class 'keras.layers.recurrent.LSTMCell'> to avoid naming conflicts when loading with `tf.keras.models.load_model`. If renaming is not possible, pass the object in the `custom_objects` parameter of the load function.\n"
     ]
    },
    {
     "name": "stdout",
     "output_type": "stream",
     "text": [
      "46/46 [==============================] - 18s 398ms/step - loss: 0.5943 - weather_output_loss: 0.0599 - comfort_output_loss: 0.5344 - weather_output_mse: 0.0599 - comfort_output_accuracy: 0.7789 - val_loss: 0.5921 - val_weather_output_loss: 0.0408 - val_comfort_output_loss: 0.5513 - val_weather_output_mse: 0.0408 - val_comfort_output_accuracy: 0.7596 - lr: 0.0010\n",
      "Epoch 4/30\n",
      "46/46 [==============================] - ETA: 0s - loss: 0.5903 - weather_output_loss: 0.0575 - comfort_output_loss: 0.5328 - weather_output_mse: 0.0575 - comfort_output_accuracy: 0.7789"
     ]
    },
    {
     "name": "stderr",
     "output_type": "stream",
     "text": [
      "WARNING:absl:Found untraced functions such as lstm_cell_5_layer_call_fn, lstm_cell_5_layer_call_and_return_conditional_losses, lstm_cell_6_layer_call_fn, lstm_cell_6_layer_call_and_return_conditional_losses, lstm_cell_7_layer_call_fn while saving (showing 5 of 6). These functions will not be directly callable after loading.\n"
     ]
    },
    {
     "name": "stdout",
     "output_type": "stream",
     "text": [
      "INFO:tensorflow:Assets written to: .\\7_best_model\\assets\n"
     ]
    },
    {
     "name": "stderr",
     "output_type": "stream",
     "text": [
      "INFO:tensorflow:Assets written to: .\\7_best_model\\assets\n",
      "WARNING:absl:<keras.layers.recurrent.LSTMCell object at 0x000001C7347D7880> has the same name 'LSTMCell' as a built-in Keras object. Consider renaming <class 'keras.layers.recurrent.LSTMCell'> to avoid naming conflicts when loading with `tf.keras.models.load_model`. If renaming is not possible, pass the object in the `custom_objects` parameter of the load function.\n",
      "WARNING:absl:<keras.layers.recurrent.LSTMCell object at 0x000001C738EECF40> has the same name 'LSTMCell' as a built-in Keras object. Consider renaming <class 'keras.layers.recurrent.LSTMCell'> to avoid naming conflicts when loading with `tf.keras.models.load_model`. If renaming is not possible, pass the object in the `custom_objects` parameter of the load function.\n",
      "WARNING:absl:<keras.layers.recurrent.LSTMCell object at 0x000001C73232C5E0> has the same name 'LSTMCell' as a built-in Keras object. Consider renaming <class 'keras.layers.recurrent.LSTMCell'> to avoid naming conflicts when loading with `tf.keras.models.load_model`. If renaming is not possible, pass the object in the `custom_objects` parameter of the load function.\n"
     ]
    },
    {
     "name": "stdout",
     "output_type": "stream",
     "text": [
      "46/46 [==============================] - 13s 288ms/step - loss: 0.5903 - weather_output_loss: 0.0575 - comfort_output_loss: 0.5328 - weather_output_mse: 0.0575 - comfort_output_accuracy: 0.7789 - val_loss: 0.5901 - val_weather_output_loss: 0.0392 - val_comfort_output_loss: 0.5509 - val_weather_output_mse: 0.0392 - val_comfort_output_accuracy: 0.7596 - lr: 0.0010\n",
      "Epoch 5/30\n",
      "44/46 [===========================>..] - ETA: 0s - loss: 0.5822 - weather_output_loss: 0.0568 - comfort_output_loss: 0.5254 - weather_output_mse: 0.0568 - comfort_output_accuracy: 0.7848"
     ]
    },
    {
     "name": "stderr",
     "output_type": "stream",
     "text": [
      "WARNING:absl:Found untraced functions such as lstm_cell_5_layer_call_fn, lstm_cell_5_layer_call_and_return_conditional_losses, lstm_cell_6_layer_call_fn, lstm_cell_6_layer_call_and_return_conditional_losses, lstm_cell_7_layer_call_fn while saving (showing 5 of 6). These functions will not be directly callable after loading.\n"
     ]
    },
    {
     "name": "stdout",
     "output_type": "stream",
     "text": [
      "INFO:tensorflow:Assets written to: .\\7_best_model\\assets\n"
     ]
    },
    {
     "name": "stderr",
     "output_type": "stream",
     "text": [
      "INFO:tensorflow:Assets written to: .\\7_best_model\\assets\n",
      "WARNING:absl:<keras.layers.recurrent.LSTMCell object at 0x000001C7347D7880> has the same name 'LSTMCell' as a built-in Keras object. Consider renaming <class 'keras.layers.recurrent.LSTMCell'> to avoid naming conflicts when loading with `tf.keras.models.load_model`. If renaming is not possible, pass the object in the `custom_objects` parameter of the load function.\n",
      "WARNING:absl:<keras.layers.recurrent.LSTMCell object at 0x000001C738EECF40> has the same name 'LSTMCell' as a built-in Keras object. Consider renaming <class 'keras.layers.recurrent.LSTMCell'> to avoid naming conflicts when loading with `tf.keras.models.load_model`. If renaming is not possible, pass the object in the `custom_objects` parameter of the load function.\n",
      "WARNING:absl:<keras.layers.recurrent.LSTMCell object at 0x000001C73232C5E0> has the same name 'LSTMCell' as a built-in Keras object. Consider renaming <class 'keras.layers.recurrent.LSTMCell'> to avoid naming conflicts when loading with `tf.keras.models.load_model`. If renaming is not possible, pass the object in the `custom_objects` parameter of the load function.\n"
     ]
    },
    {
     "name": "stdout",
     "output_type": "stream",
     "text": [
      "46/46 [==============================] - 14s 306ms/step - loss: 0.5883 - weather_output_loss: 0.0561 - comfort_output_loss: 0.5322 - weather_output_mse: 0.0561 - comfort_output_accuracy: 0.7789 - val_loss: 0.5887 - val_weather_output_loss: 0.0381 - val_comfort_output_loss: 0.5506 - val_weather_output_mse: 0.0381 - val_comfort_output_accuracy: 0.7596 - lr: 0.0010\n",
      "Epoch 6/30\n",
      "46/46 [==============================] - ETA: 0s - loss: 0.5867 - weather_output_loss: 0.0552 - comfort_output_loss: 0.5315 - weather_output_mse: 0.0552 - comfort_output_accuracy: 0.7789"
     ]
    },
    {
     "name": "stderr",
     "output_type": "stream",
     "text": [
      "WARNING:absl:Found untraced functions such as lstm_cell_5_layer_call_fn, lstm_cell_5_layer_call_and_return_conditional_losses, lstm_cell_6_layer_call_fn, lstm_cell_6_layer_call_and_return_conditional_losses, lstm_cell_7_layer_call_fn while saving (showing 5 of 6). These functions will not be directly callable after loading.\n"
     ]
    },
    {
     "name": "stdout",
     "output_type": "stream",
     "text": [
      "INFO:tensorflow:Assets written to: .\\7_best_model\\assets\n"
     ]
    },
    {
     "name": "stderr",
     "output_type": "stream",
     "text": [
      "INFO:tensorflow:Assets written to: .\\7_best_model\\assets\n",
      "WARNING:absl:<keras.layers.recurrent.LSTMCell object at 0x000001C7347D7880> has the same name 'LSTMCell' as a built-in Keras object. Consider renaming <class 'keras.layers.recurrent.LSTMCell'> to avoid naming conflicts when loading with `tf.keras.models.load_model`. If renaming is not possible, pass the object in the `custom_objects` parameter of the load function.\n",
      "WARNING:absl:<keras.layers.recurrent.LSTMCell object at 0x000001C738EECF40> has the same name 'LSTMCell' as a built-in Keras object. Consider renaming <class 'keras.layers.recurrent.LSTMCell'> to avoid naming conflicts when loading with `tf.keras.models.load_model`. If renaming is not possible, pass the object in the `custom_objects` parameter of the load function.\n",
      "WARNING:absl:<keras.layers.recurrent.LSTMCell object at 0x000001C73232C5E0> has the same name 'LSTMCell' as a built-in Keras object. Consider renaming <class 'keras.layers.recurrent.LSTMCell'> to avoid naming conflicts when loading with `tf.keras.models.load_model`. If renaming is not possible, pass the object in the `custom_objects` parameter of the load function.\n"
     ]
    },
    {
     "name": "stdout",
     "output_type": "stream",
     "text": [
      "46/46 [==============================] - 14s 320ms/step - loss: 0.5867 - weather_output_loss: 0.0552 - comfort_output_loss: 0.5315 - weather_output_mse: 0.0552 - comfort_output_accuracy: 0.7789 - val_loss: 0.5875 - val_weather_output_loss: 0.0376 - val_comfort_output_loss: 0.5500 - val_weather_output_mse: 0.0376 - val_comfort_output_accuracy: 0.7596 - lr: 0.0010\n",
      "Epoch 7/30\n",
      "46/46 [==============================] - 1s 28ms/step - loss: 0.5845 - weather_output_loss: 0.0549 - comfort_output_loss: 0.5296 - weather_output_mse: 0.0549 - comfort_output_accuracy: 0.7789 - val_loss: 0.5854 - val_weather_output_loss: 0.0394 - val_comfort_output_loss: 0.5460 - val_weather_output_mse: 0.0394 - val_comfort_output_accuracy: 0.7596 - lr: 0.0010\n",
      "Epoch 8/30\n",
      "46/46 [==============================] - 1s 28ms/step - loss: 0.5797 - weather_output_loss: 0.0572 - comfort_output_loss: 0.5225 - weather_output_mse: 0.0572 - comfort_output_accuracy: 0.7789 - val_loss: 0.5852 - val_weather_output_loss: 0.0459 - val_comfort_output_loss: 0.5393 - val_weather_output_mse: 0.0459 - val_comfort_output_accuracy: 0.7596 - lr: 0.0010\n",
      "Epoch 9/30\n",
      "46/46 [==============================] - ETA: 0s - loss: 0.5760 - weather_output_loss: 0.0590 - comfort_output_loss: 0.5170 - weather_output_mse: 0.0590 - comfort_output_accuracy: 0.7789\n",
      "Epoch 9: ReduceLROnPlateau reducing learning rate to 0.00010000000474974513.\n",
      "46/46 [==============================] - 2s 33ms/step - loss: 0.5760 - weather_output_loss: 0.0590 - comfort_output_loss: 0.5170 - weather_output_mse: 0.0590 - comfort_output_accuracy: 0.7789 - val_loss: 0.5831 - val_weather_output_loss: 0.0475 - val_comfort_output_loss: 0.5356 - val_weather_output_mse: 0.0475 - val_comfort_output_accuracy: 0.7596 - lr: 0.0010\n",
      "Epoch 10/30\n",
      "46/46 [==============================] - 2s 33ms/step - loss: 0.5664 - weather_output_loss: 0.0625 - comfort_output_loss: 0.5039 - weather_output_mse: 0.0625 - comfort_output_accuracy: 0.7789 - val_loss: 0.5818 - val_weather_output_loss: 0.0461 - val_comfort_output_loss: 0.5357 - val_weather_output_mse: 0.0461 - val_comfort_output_accuracy: 0.7596 - lr: 1.0000e-04\n",
      "Epoch 11/30\n",
      "46/46 [==============================] - 2s 35ms/step - loss: 0.5652 - weather_output_loss: 0.0616 - comfort_output_loss: 0.5037 - weather_output_mse: 0.0616 - comfort_output_accuracy: 0.7789 - val_loss: 0.5808 - val_weather_output_loss: 0.0457 - val_comfort_output_loss: 0.5351 - val_weather_output_mse: 0.0457 - val_comfort_output_accuracy: 0.7596 - lr: 1.0000e-04\n"
     ]
    }
   ],
   "source": [
    "epochs = 30\n",
    "\n",
    "callbacks = [\n",
    "    tf.keras.callbacks.ModelCheckpoint('./7_best_model', monitor='val_weather_output_loss', save_best_only=True),\n",
    "    # tf.keras.callbacks.EarlyStopping(monitor='val_weather_output_loss', patience=5, restore_best_weights=True),\n",
    "    tf.keras.callbacks.ReduceLROnPlateau(monitor='val_weather_output_loss', factor=0.1, patience=3, verbose=1)\n",
    "]\n",
    "\n",
    "history = model.fit(train_ds, validation_data=test_ds, batch_size=32, epochs=epochs, callbacks=callbacks, use_multiprocessing=True)"
   ]
  },
  {
   "cell_type": "markdown",
   "metadata": {},
   "source": [
    "## Plot accuracy and loss"
   ]
  },
  {
   "cell_type": "code",
   "execution_count": 14,
   "metadata": {},
   "outputs": [
    {
     "data": {
      "image/png": "[encoded data removed]",
      "text/plain": [
       "<Figure size 432x288 with 1 Axes>"
      ]
     },
     "metadata": {
      "needs_background": "light"
     },
     "output_type": "display_data"
    },
    {
     "data": {
      "image/png": "[encoded data removed]",
      "text/plain": [
       "<Figure size 432x288 with 1 Axes>"
      ]
     },
     "metadata": {
      "needs_background": "light"
     },
     "output_type": "display_data"
    }
   ],
   "source": [
    "plt.plot(history.history['weather_output_loss'], label='Weather Loss')\n",
    "plt.plot(history.history['val_weather_output_loss'], label='Weather Val Loss')\n",
    "plt.xlabel('Epochs')\n",
    "plt.legend()\n",
    "plt.show()\n",
    "\n",
    "plt.plot(history.history['comfort_output_accuracy'], label='Comfort Train Accuracy')\n",
    "plt.plot(history.history['val_comfort_output_accuracy'], label='Comfort Val Accuracy')\n",
    "plt.xlabel('Epochs')\n",
    "plt.legend()\n",
    "plt.show()"
   ]
  },
  {
   "cell_type": "code",
   "execution_count": null,
   "metadata": {},
   "outputs": [],
   "source": []
  }
 ],
 "metadata": {
  "interpreter": {
   "hash": "6425117d13823fa8044a2c07c859b613f2362d94b282c9a4162ba20339fd2c4d"
  },
  "kernelspec": {
   "display_name": "Python 3.9.12 64-bit",
   "language": "python",
   "name": "python3"
  },
  "language_info": {
   "codemirror_mode": {
    "name": "ipython",
    "version": 3
   },
   "file_extension": ".py",
   "mimetype": "text/x-python",
   "name": "python",
   "nbconvert_exporter": "python",
   "pygments_lexer": "ipython3",
   "version": "3.9.12"
  },
  "orig_nbformat": 4
 },
 "nbformat": 4,
 "nbformat_minor": 2
}
