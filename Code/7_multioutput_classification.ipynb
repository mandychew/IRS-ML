{
 "cells": [
  {
   "cell_type": "markdown",
   "metadata": {},
   "source": [
    "# Using multi-output model to classify Delhi Weather Data\n",
    "Task: predict 4 weather metrics into the future - mean temperature, humidity, wind speed and mean pressure - and classify comfort (comfortable = 1, not comfortable = 0)  "
   ]
  },
  {
   "cell_type": "code",
   "execution_count": 2,
   "metadata": {},
   "outputs": [],
   "source": [
    "import pandas as pd\n",
    "import numpy as np\n",
    "import matplotlib.pyplot as plt\n",
    "import tensorflow as tf\n",
    "from tensorflow.keras.layers import *\n",
    "from tensorflow.keras.models import Model\n",
    "import keras_tuner as kt"
   ]
  },
  {
   "cell_type": "markdown",
   "metadata": {},
   "source": [
    "## Process train and test data"
   ]
  },
  {
   "cell_type": "code",
   "execution_count": 3,
   "metadata": {},
   "outputs": [
    {
     "data": {
      "text/plain": [
       "(1462, 5)"
      ]
     },
     "execution_count": 3,
     "metadata": {},
     "output_type": "execute_result"
    }
   ],
   "source": [
    "train = pd.read_csv('C:/Users/mandy/OneDrive/2022 IRS/ML/Datasets/Delhi Climate/DailyDelhiClimateTrain.csv', index_col=0)\n",
    "train.shape"
   ]
  },
  {
   "cell_type": "code",
   "execution_count": 4,
   "metadata": {},
   "outputs": [
    {
     "data": {
      "text/plain": [
       "(114, 5)"
      ]
     },
     "execution_count": 4,
     "metadata": {},
     "output_type": "execute_result"
    }
   ],
   "source": [
    "test = pd.read_csv('C:/Users/mandy/OneDrive/2022 IRS/ML/Datasets/Delhi Climate/DailyDelhiClimateTest.csv', index_col = 0)\n",
    "test.shape"
   ]
  },
  {
   "cell_type": "code",
   "execution_count": 5,
   "metadata": {},
   "outputs": [],
   "source": [
    "def normalise(data, min, max):\n",
    "    data = data - min\n",
    "    data = data / max\n",
    "    return data\n",
    "\n",
    "train = train.values\n",
    "train_normed = normalise(train, train.min(axis=0), train.max(axis=0))\n",
    "test = test.values\n",
    "test_normed = normalise(test, train.min(axis=0), train.max(axis=0))"
   ]
  },
  {
   "cell_type": "markdown",
   "metadata": {},
   "source": [
    "## Plot train data"
   ]
  },
  {
   "cell_type": "code",
   "execution_count": 6,
   "metadata": {},
   "outputs": [
    {
     "data": {
      "image/png": "[encoded data removed]",
      "text/plain": [
       "<Figure size 432x288 with 4 Axes>"
      ]
     },
     "metadata": {
      "needs_background": "light"
     },
     "output_type": "display_data"
    }
   ],
   "source": [
    "# fig, ax = plt.subplots(2, 2)\n",
    "# # fig.suptitle('Delhi Weather Features')\n",
    "# ax[0, 0].plot(range(len(train['meantemp'])), train['meantemp'])\n",
    "# ax[0, 0].set_title('Mean Temperature')\n",
    "# ax[0, 1].plot(range(len(train['humidity'])), train['humidity'])\n",
    "# ax[0, 1].set_title('Humidity')\n",
    "# ax[1, 0].plot(range(len(train['wind_speed'])), train['wind_speed'])\n",
    "# ax[1, 0].set_title('Wind Speed')\n",
    "# ax[1, 1].plot(range(len(train['meanpressure'])), train['meanpressure'])\n",
    "# ax[1, 1].set_title('Mean Pressure')\n",
    "\n",
    "# plt.subplots_adjust(left = 0.1, bottom=0.1, right=0.9, top=0.9, wspace=0.4, hspace=0.4)\n",
    "# plt.show()"
   ]
  },
  {
   "cell_type": "markdown",
   "metadata": {},
   "source": [
    "## Create features and labels"
   ]
  },
  {
   "cell_type": "code",
   "execution_count": 7,
   "metadata": {},
   "outputs": [],
   "source": [
    "def windowed_dataset(series, n_past, n_future, batch_size, shift=1):\n",
    "\n",
    "    # n_past = number of timesteps to look back (x or input to model)\n",
    "    # n_future = number of timesteps to predict (y or output of model)\n",
    "\n",
    "    dataset = tf.data.Dataset.from_tensor_slices(series)\n",
    "    dataset = dataset.window(size=n_past + n_future, shift=shift, drop_remainder=True)\n",
    "    dataset = dataset.flat_map(lambda window: window.batch(n_past + n_future)) # flat_map returns a non-iterable, unlike map which returns a list\n",
    "    dataset = dataset.map(lambda window: (window[:n_past, :-1], (window[:n_past, :-1], window[n_past:, -1])))\n",
    "    dataset = dataset.batch(batch_size).prefetch(1)\n",
    "    return dataset\n",
    "\n",
    "batch_size = 32 # affects performance, but impact is not straightforward (i.e. larger batch_size =/= better performance)\n",
    "n_past = 10\n",
    "n_future = 1\n",
    "shift = 1\n",
    "\n",
    "test_ds = windowed_dataset(series=test_normed, batch_size=batch_size, n_past=n_past, n_future=n_future, shift=shift)\n",
    "train_ds = windowed_dataset(series=train_normed, batch_size=batch_size, n_past=n_past, n_future=n_future, shift=shift)"
   ]
  },
  {
   "cell_type": "code",
   "execution_count": 8,
   "metadata": {},
   "outputs": [
    {
     "name": "stdout",
     "output_type": "stream",
     "text": [
      "(32, 10, 4) [(32, 10, 4), (32, 1)]\n",
      "(32, 10, 4) [(32, 10, 4), (32, 1)]\n",
      "(32, 10, 4) [(32, 10, 4), (32, 1)]\n",
      "(8, 10, 4) [(8, 10, 4), (8, 1)]\n",
      "\n",
      "(32, 10, 4) [(32, 10, 4), (32, 1)]\n",
      "(32, 10, 4) [(32, 10, 4), (32, 1)]\n",
      "(32, 10, 4) [(32, 10, 4), (32, 1)]\n",
      "(32, 10, 4) [(32, 10, 4), (32, 1)]\n",
      "(32, 10, 4) [(32, 10, 4), (32, 1)]\n",
      "(32, 10, 4) [(32, 10, 4), (32, 1)]\n",
      "(32, 10, 4) [(32, 10, 4), (32, 1)]\n",
      "(32, 10, 4) [(32, 10, 4), (32, 1)]\n",
      "(32, 10, 4) [(32, 10, 4), (32, 1)]\n",
      "(32, 10, 4) [(32, 10, 4), (32, 1)]\n",
      "(32, 10, 4) [(32, 10, 4), (32, 1)]\n",
      "(32, 10, 4) [(32, 10, 4), (32, 1)]\n",
      "(32, 10, 4) [(32, 10, 4), (32, 1)]\n",
      "(32, 10, 4) [(32, 10, 4), (32, 1)]\n",
      "(32, 10, 4) [(32, 10, 4), (32, 1)]\n",
      "(32, 10, 4) [(32, 10, 4), (32, 1)]\n",
      "(32, 10, 4) [(32, 10, 4), (32, 1)]\n",
      "(32, 10, 4) [(32, 10, 4), (32, 1)]\n",
      "(32, 10, 4) [(32, 10, 4), (32, 1)]\n",
      "(32, 10, 4) [(32, 10, 4), (32, 1)]\n",
      "(32, 10, 4) [(32, 10, 4), (32, 1)]\n",
      "(32, 10, 4) [(32, 10, 4), (32, 1)]\n",
      "(32, 10, 4) [(32, 10, 4), (32, 1)]\n",
      "(32, 10, 4) [(32, 10, 4), (32, 1)]\n",
      "(32, 10, 4) [(32, 10, 4), (32, 1)]\n",
      "(32, 10, 4) [(32, 10, 4), (32, 1)]\n",
      "(32, 10, 4) [(32, 10, 4), (32, 1)]\n",
      "(32, 10, 4) [(32, 10, 4), (32, 1)]\n",
      "(32, 10, 4) [(32, 10, 4), (32, 1)]\n",
      "(32, 10, 4) [(32, 10, 4), (32, 1)]\n",
      "(32, 10, 4) [(32, 10, 4), (32, 1)]\n",
      "(32, 10, 4) [(32, 10, 4), (32, 1)]\n",
      "(32, 10, 4) [(32, 10, 4), (32, 1)]\n",
      "(32, 10, 4) [(32, 10, 4), (32, 1)]\n",
      "(32, 10, 4) [(32, 10, 4), (32, 1)]\n",
      "(32, 10, 4) [(32, 10, 4), (32, 1)]\n",
      "(32, 10, 4) [(32, 10, 4), (32, 1)]\n",
      "(32, 10, 4) [(32, 10, 4), (32, 1)]\n",
      "(32, 10, 4) [(32, 10, 4), (32, 1)]\n",
      "(32, 10, 4) [(32, 10, 4), (32, 1)]\n",
      "(32, 10, 4) [(32, 10, 4), (32, 1)]\n",
      "(32, 10, 4) [(32, 10, 4), (32, 1)]\n",
      "(32, 10, 4) [(32, 10, 4), (32, 1)]\n",
      "(32, 10, 4) [(32, 10, 4), (32, 1)]\n",
      "(32, 10, 4) [(32, 10, 4), (32, 1)]\n",
      "(12, 10, 4) [(12, 10, 4), (12, 1)]\n"
     ]
    }
   ],
   "source": [
    "def windowed_dataset_structure(dataset):\n",
    "    for x, (p, c) in dataset:\n",
    "        print(np.array(x).shape, [np.array(p).shape, np.array(c).shape])\n",
    "\n",
    "windowed_dataset_structure(test_ds)\n",
    "print()\n",
    "windowed_dataset_structure(train_ds)"
   ]
  },
  {
   "cell_type": "markdown",
   "metadata": {},
   "source": [
    "## Build Model"
   ]
  },
  {
   "cell_type": "code",
   "execution_count": 9,
   "metadata": {},
   "outputs": [
    {
     "name": "stdout",
     "output_type": "stream",
     "text": [
      "Model: \"model\"\n",
      "_________________________________________________________________\n",
      " Layer (type)                Output Shape              Param #   \n",
      "=================================================================\n",
      " input_1 (InputLayer)        [(None, 10, 4)]           0         \n",
      "                                                                 \n",
      " lstm (LSTM)                 (None, 10, 64)            17664     \n",
      "                                                                 \n",
      " lstm_1 (LSTM)               (None, 10, 64)            33024     \n",
      "                                                                 \n",
      " dense (Dense)               (None, 10, 64)            4160      \n",
      "                                                                 \n",
      " dense_1 (Dense)             (None, 10, 64)            4160      \n",
      "                                                                 \n",
      " weather_output (Dense)      (None, 10, 1)             65        \n",
      "                                                                 \n",
      " flatten (Flatten)           (None, 10)                0         \n",
      "                                                                 \n",
      " dense_2 (Dense)             (None, 64)                704       \n",
      "                                                                 \n",
      " comfort_output (Dense)      (None, 1)                 65        \n",
      "                                                                 \n",
      "=================================================================\n",
      "Total params: 59,842\n",
      "Trainable params: 59,842\n",
      "Non-trainable params: 0\n",
      "_________________________________________________________________\n"
     ]
    }
   ],
   "source": [
    "xIn = Input((n_past, 4))\n",
    "x = LSTM(64, return_sequences=True)(xIn) # set return_sequences = True if there's an LSTM layer afterwards\n",
    "x = LSTM(64, return_sequences=True)(x)\n",
    "\n",
    "x = Dense(64, activation='swish')(x)\n",
    "x = Dense(64, activation='swish')(x)\n",
    "\n",
    "# meantemp_output = Dense(n_future, activation='swish', name='meantemp_output')(x)\n",
    "\n",
    "# humidity_output = Dense(n_future, activation='swish', name='humidity_output')(x)\n",
    "\n",
    "# wind_speed_output = Dense(n_future, activation='swish', name='wind_speed_output')(x)\n",
    "\n",
    "# meanpressure_output = Dense(n_future, activation='swish', name='meanpressure_output')(x)\n",
    "\n",
    "weather_output = Dense(n_future, activation='swish', name='weather_output')(x)\n",
    "\n",
    "x = Flatten()(weather_output)\n",
    "x = Dense(64, activation='swish')(x)\n",
    "\n",
    "comfort_output = Dense(n_future, activation='sigmoid', name='comfort_output')(x)\n",
    "\n",
    "model = Model(inputs=xIn, outputs=[weather_output, comfort_output])\n",
    "model.compile(optimizer='adam', \n",
    "              loss={\n",
    "                  'weather_output': 'mse', \n",
    "                  'comfort_output': 'binary_crossentropy'},\n",
    "              metrics={\n",
    "                  'weather_output': 'mse', \n",
    "                  'comfort_output': 'accuracy'})\n",
    "model.summary()"
   ]
  },
  {
   "cell_type": "code",
   "execution_count": null,
   "metadata": {},
   "outputs": [],
   "source": [
    "# xIn = Input((n_past, 5))\n",
    "# x = LSTM(64, return_sequences=True)(xIn) # set return_sequences = True if there's an LSTM layer afterwards\n",
    "# x = LSTM(64)(x)\n",
    "# x = Flatten()(x) # alternative: GlobalAvgPool2D() - may lose some accuracy, but smaller output shape than Flatten()\n",
    "\n",
    "# x = Dense(64, activation='swish')(x)\n",
    "# x = Dense(64, activation='swish')(x)\n",
    "\n",
    "# meantemp_output = Dense(1, activation='swish', name='meantemp_output')(x)\n",
    "\n",
    "# humidity_output = Dense(1, activation='swish', name='humidity_output')(x)\n",
    "\n",
    "# wind_speed_output = Dense(1, activation='swish', name='wind_speed_output')(x)\n",
    "\n",
    "# meanpressure_output = Dense(1, activation='swish', name='meanpressure_output')(x)\n",
    "\n",
    "# comfort_output = Dense(1, activation='sigmoid', name='comfort_output')(x)\n",
    "\n",
    "# xOut = Concatenate()([meantemp_output, humidity_output, wind_speed_output, meanpressure_output, comfort_output])\n",
    "\n",
    "# model = Model(inputs=xIn, outputs=xOut)\n",
    "# model.compile(optimizer='adam', \n",
    "#               loss={\n",
    "#                   'meantemp_output': 'mse', \n",
    "#                   'humidity_output': 'mse', \n",
    "#                   'wind_speed_output': 'mse', \n",
    "#                   'meanpressure_output': 'mse', \n",
    "#                   'comfort_output': 'binary_crossentropy'},\n",
    "#               metrics={\n",
    "#                   'meantemp_output': 'mse', \n",
    "#                   'humidity_output': 'mse', \n",
    "#                   'wind_speed_output': 'mse', \n",
    "#                   'meanpressure_output': 'mse', \n",
    "#                   'comfort_output': 'accuracy'})\n",
    "# model.summary()"
   ]
  },
  {
   "cell_type": "code",
   "execution_count": 11,
   "metadata": {},
   "outputs": [
    {
     "name": "stdout",
     "output_type": "stream",
     "text": [
      "Epoch 1/30\n",
      "     45/Unknown - 2s 33ms/step - loss: 0.5732 - weather_output_loss: 0.0527 - comfort_output_loss: 0.5205 - weather_output_mse: 0.0527 - comfort_output_accuracy: 0.7771"
     ]
    },
    {
     "name": "stderr",
     "output_type": "stream",
     "text": [
      "WARNING:absl:Found untraced functions such as lstm_cell_layer_call_fn, lstm_cell_layer_call_and_return_conditional_losses, lstm_cell_1_layer_call_fn, lstm_cell_1_layer_call_and_return_conditional_losses while saving (showing 4 of 4). These functions will not be directly callable after loading.\n"
     ]
    },
    {
     "name": "stdout",
     "output_type": "stream",
     "text": [
      "INFO:tensorflow:Assets written to: .\\7_best_model\\assets\n"
     ]
    },
    {
     "name": "stderr",
     "output_type": "stream",
     "text": [
      "INFO:tensorflow:Assets written to: .\\7_best_model\\assets\n",
      "WARNING:absl:<keras.layers.recurrent.LSTMCell object at 0x000001C51099B850> has the same name 'LSTMCell' as a built-in Keras object. Consider renaming <class 'keras.layers.recurrent.LSTMCell'> to avoid naming conflicts when loading with `tf.keras.models.load_model`. If renaming is not possible, pass the object in the `custom_objects` parameter of the load function.\n",
      "WARNING:absl:<keras.layers.recurrent.LSTMCell object at 0x000001C51100C6D0> has the same name 'LSTMCell' as a built-in Keras object. Consider renaming <class 'keras.layers.recurrent.LSTMCell'> to avoid naming conflicts when loading with `tf.keras.models.load_model`. If renaming is not possible, pass the object in the `custom_objects` parameter of the load function.\n"
     ]
    },
    {
     "name": "stdout",
     "output_type": "stream",
     "text": [
      "46/46 [==============================] - 11s 252ms/step - loss: 0.5712 - weather_output_loss: 0.0525 - comfort_output_loss: 0.5186 - weather_output_mse: 0.0525 - comfort_output_accuracy: 0.7789 - val_loss: 0.5800 - val_weather_output_loss: 0.0353 - val_comfort_output_loss: 0.5448 - val_weather_output_mse: 0.0353 - val_comfort_output_accuracy: 0.7596 - lr: 0.0010\n",
      "Epoch 2/30\n",
      "46/46 [==============================] - 1s 31ms/step - loss: 0.5694 - weather_output_loss: 0.0527 - comfort_output_loss: 0.5167 - weather_output_mse: 0.0527 - comfort_output_accuracy: 0.7789 - val_loss: 0.5791 - val_weather_output_loss: 0.0358 - val_comfort_output_loss: 0.5433 - val_weather_output_mse: 0.0358 - val_comfort_output_accuracy: 0.7596 - lr: 0.0010\n",
      "Epoch 3/30\n",
      "46/46 [==============================] - 1s 25ms/step - loss: 0.5674 - weather_output_loss: 0.0532 - comfort_output_loss: 0.5142 - weather_output_mse: 0.0532 - comfort_output_accuracy: 0.7789 - val_loss: 0.5778 - val_weather_output_loss: 0.0362 - val_comfort_output_loss: 0.5416 - val_weather_output_mse: 0.0362 - val_comfort_output_accuracy: 0.7596 - lr: 0.0010\n",
      "Epoch 4/30\n",
      "46/46 [==============================] - ETA: 0s - loss: 0.5638 - weather_output_loss: 0.0535 - comfort_output_loss: 0.5103 - weather_output_mse: 0.0535 - comfort_output_accuracy: 0.7789\n",
      "Epoch 4: ReduceLROnPlateau reducing learning rate to 0.00010000000474974513.\n",
      "46/46 [==============================] - 1s 26ms/step - loss: 0.5638 - weather_output_loss: 0.0535 - comfort_output_loss: 0.5103 - weather_output_mse: 0.0535 - comfort_output_accuracy: 0.7789 - val_loss: 0.5773 - val_weather_output_loss: 0.0418 - val_comfort_output_loss: 0.5355 - val_weather_output_mse: 0.0418 - val_comfort_output_accuracy: 0.7596 - lr: 0.0010\n",
      "Epoch 5/30\n",
      "46/46 [==============================] - 1s 25ms/step - loss: 0.5526 - weather_output_loss: 0.0587 - comfort_output_loss: 0.4939 - weather_output_mse: 0.0587 - comfort_output_accuracy: 0.7789 - val_loss: 0.5728 - val_weather_output_loss: 0.0366 - val_comfort_output_loss: 0.5362 - val_weather_output_mse: 0.0366 - val_comfort_output_accuracy: 0.7596 - lr: 1.0000e-04\n",
      "Epoch 6/30\n",
      "46/46 [==============================] - 1s 26ms/step - loss: 0.5497 - weather_output_loss: 0.0543 - comfort_output_loss: 0.4954 - weather_output_mse: 0.0543 - comfort_output_accuracy: 0.7789 - val_loss: 0.5710 - val_weather_output_loss: 0.0359 - val_comfort_output_loss: 0.5351 - val_weather_output_mse: 0.0359 - val_comfort_output_accuracy: 0.7596 - lr: 1.0000e-04\n"
     ]
    }
   ],
   "source": [
    "epochs = 30\n",
    "\n",
    "callbacks = [\n",
    "    tf.keras.callbacks.ModelCheckpoint('./7_best_model', monitor='val_weather_output_loss', save_best_only=True),\n",
    "    tf.keras.callbacks.EarlyStopping(monitor='val_weather_output_loss', patience=5, restore_best_weights=True),\n",
    "    tf.keras.callbacks.ReduceLROnPlateau(monitor='val_weather_output_loss', factor=0.1, patience=3, verbose=1)\n",
    "]\n",
    "\n",
    "history = model.fit(train_ds, validation_data=test_ds, batch_size=32, epochs=epochs, callbacks=callbacks)"
   ]
  },
  {
   "cell_type": "markdown",
   "metadata": {},
   "source": [
    "## Plot accuracy and loss"
   ]
  },
  {
   "cell_type": "code",
   "execution_count": null,
   "metadata": {},
   "outputs": [],
   "source": [
    "plt.plot(history.history['weather_output_loss'], label='Weather Loss')\n",
    "plt.plot(history.history['val_weather_output_loss'], label='Weather Val Loss')\n",
    "plt.xlabel('Epochs')\n",
    "plt.legend()\n",
    "plt.show()\n",
    "\n",
    "plt.plot(history.history['comfort_output_acc'], label='Comfort Train Accuracy')\n",
    "plt.plot(history.history['val_meantemp_output_acc'], label='Comfort Val Accuracy')\n",
    "plt.xlabel('Epochs')\n",
    "plt.legend()\n",
    "plt.show()"
   ]
  }
 ],
 "metadata": {
  "interpreter": {
   "hash": "6425117d13823fa8044a2c07c859b613f2362d94b282c9a4162ba20339fd2c4d"
  },
  "kernelspec": {
   "display_name": "Python 3.9.12 64-bit",
   "language": "python",
   "name": "python3"
  },
  "language_info": {
   "codemirror_mode": {
    "name": "ipython",
    "version": 3
   },
   "file_extension": ".py",
   "mimetype": "text/x-python",
   "name": "python",
   "nbconvert_exporter": "python",
   "pygments_lexer": "ipython3",
   "version": "3.9.12"
  },
  "orig_nbformat": 4
 },
 "nbformat": 4,
 "nbformat_minor": 2
}
