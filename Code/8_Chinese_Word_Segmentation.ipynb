{
 "cells": [
  {
   "cell_type": "code",
   "execution_count": 1,
   "metadata": {},
   "outputs": [],
   "source": [
    "import pandas as pd\n",
    "import numpy as np\n",
    "import matplotlib.pyplot as plt\n",
    "import tensorflow as tf\n",
    "from tensorflow.keras.layers import *\n",
    "from tensorflow.keras.models import Model\n",
    "import keras_tuner as kt"
   ]
  },
  {
   "cell_type": "code",
   "execution_count": 16,
   "metadata": {},
   "outputs": [
    {
     "name": "stdout",
     "output_type": "stream",
     "text": [
      "                    data\n",
      "0                   時間　：\n",
      "1  三月　十日　（　星期四　）　上午　十時　。\n",
      "2                   地點　：\n",
      "3      學術　活動　中心　一樓　簡報室　。\n",
      "4                   主講　：\n"
     ]
    }
   ],
   "source": [
    "X = pd.read_csv('C:/Users/mandy/OneDrive/2022 IRS/ML/Datasets/Chinese Word Segmentation/4. Chinese Word Segmentation/as_training.utf8', names=['data'])\n",
    "print(X.head())"
   ]
  },
  {
   "cell_type": "code",
   "execution_count": 17,
   "metadata": {},
   "outputs": [
    {
     "name": "stdout",
     "output_type": "stream",
     "text": [
      "0               時間：\n",
      "1    三月十日（星期四）上午十時。\n",
      "2               地點：\n",
      "3      學術活動中心一樓簡報室。\n",
      "4               主講：\n",
      "Name: data, dtype: object\n",
      "                    data\n",
      "0                   時間　：\n",
      "1  三月　十日　（　星期四　）　上午　十時　。\n",
      "2                   地點　：\n",
      "3      學術　活動　中心　一樓　簡報室　。\n",
      "4                   主講　：\n"
     ]
    }
   ],
   "source": [
    "y = X.copy()\n",
    "X = X['data'].str.replace('\\u3000', '')\n",
    "print(X.head())\n",
    "print(y.head())"
   ]
  },
  {
   "cell_type": "code",
   "execution_count": 21,
   "metadata": {},
   "outputs": [
    {
     "ename": "IndexError",
     "evalue": "list index out of range",
     "output_type": "error",
     "traceback": [
      "\u001b[1;31m---------------------------------------------------------------------------\u001b[0m",
      "\u001b[1;31mIndexError\u001b[0m                                Traceback (most recent call last)",
      "\u001b[1;32mc:\\Users\\mandy\\OneDrive\\Documents\\GitHub\\IRS-ML\\Code\\8_Chinese_Word_Segmentation.ipynb Cell 4'\u001b[0m in \u001b[0;36m<cell line: 2>\u001b[1;34m()\u001b[0m\n\u001b[0;32m      <a href='vscode-notebook-cell:/c%3A/Users/mandy/OneDrive/Documents/GitHub/IRS-ML/Code/8_Chinese_Word_Segmentation.ipynb#ch0000005?line=6'>7</a>\u001b[0m             labels[index]\u001b[39m.\u001b[39mappend(\u001b[39m1\u001b[39m)\n\u001b[0;32m      <a href='vscode-notebook-cell:/c%3A/Users/mandy/OneDrive/Documents/GitHub/IRS-ML/Code/8_Chinese_Word_Segmentation.ipynb#ch0000005?line=7'>8</a>\u001b[0m         \u001b[39melse\u001b[39;00m:\n\u001b[1;32m----> <a href='vscode-notebook-cell:/c%3A/Users/mandy/OneDrive/Documents/GitHub/IRS-ML/Code/8_Chinese_Word_Segmentation.ipynb#ch0000005?line=8'>9</a>\u001b[0m             labels[index]\u001b[39m.\u001b[39mappend(\u001b[39m0\u001b[39m)\n\u001b[0;32m     <a href='vscode-notebook-cell:/c%3A/Users/mandy/OneDrive/Documents/GitHub/IRS-ML/Code/8_Chinese_Word_Segmentation.ipynb#ch0000005?line=10'>11</a>\u001b[0m \u001b[39mprint\u001b[39m(labels)\n",
      "\u001b[1;31mIndexError\u001b[0m: list index out of range"
     ]
    }
   ],
   "source": [
    "# labels = [[] * len(y)]\n",
    "# for index, line in enumerate(y.data):\n",
    "#     for char_index in range(len(line) - 1):\n",
    "#         if char_index == len(line) - 1:\n",
    "#             labels[index].append(1)\n",
    "#         elif line[char_index + 1] == '\\u3000':\n",
    "#             labels[index].append(1)\n",
    "#         else:\n",
    "#             labels[index].append(0)\n",
    "\n",
    "# print(labels)"
   ]
  },
  {
   "cell_type": "code",
   "execution_count": null,
   "metadata": {},
   "outputs": [],
   "source": [
    "def create_labels(data):\n",
    "    label = []\n",
    "    for index in range(len(data)):\n",
    "        if index == len(data) - 1:\n",
    "            label.append(1)\n",
    "        elif data[index + 1] == '\\u3000':\n",
    "            label.append(1)\n",
    "\n",
    "y.data.apply(lambda )"
   ]
  }
 ],
 "metadata": {
  "interpreter": {
   "hash": "6425117d13823fa8044a2c07c859b613f2362d94b282c9a4162ba20339fd2c4d"
  },
  "kernelspec": {
   "display_name": "Python 3.9.12 64-bit",
   "language": "python",
   "name": "python3"
  },
  "language_info": {
   "codemirror_mode": {
    "name": "ipython",
    "version": 3
   },
   "file_extension": ".py",
   "mimetype": "text/x-python",
   "name": "python",
   "nbconvert_exporter": "python",
   "pygments_lexer": "ipython3",
   "version": "3.9.12"
  },
  "orig_nbformat": 4
 },
 "nbformat": 4,
 "nbformat_minor": 2
}
