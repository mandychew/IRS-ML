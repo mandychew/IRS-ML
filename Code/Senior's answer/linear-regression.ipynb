{
 "cells": [
  {
   "cell_type": "markdown",
   "metadata": {},
   "source": [
    "# 1. Linear Regression"
   ]
  },
  {
   "cell_type": "code",
   "execution_count": 47,
   "metadata": {},
   "outputs": [],
   "source": [
    "import tensorflow as tf\n",
    "import matplotlib.pyplot as plt"
   ]
  },
  {
   "cell_type": "code",
   "execution_count": 58,
   "metadata": {},
   "outputs": [],
   "source": [
    "ndim = 4\n",
    "m = tf.convert_to_tensor([2., 4., 6., 17.])\n",
    "c = tf.convert_to_tensor(-10.)\n",
    "\n",
    "def generate_batch(batch_size):\n",
    "  x = tf.random.uniform((batch_size, ndim))\n",
    "  y = tf.reduce_sum(x * m) + c\n",
    "  return x, y"
   ]
  },
  {
   "cell_type": "code",
   "execution_count": 74,
   "metadata": {},
   "outputs": [],
   "source": [
    "m_pred = tf.random.uniform((ndim,))\n",
    "c_pred = tf.random.uniform(())\n",
    "\n",
    "batch_size = 32\n",
    "num_iterations = 7000\n",
    "learning_rate = 1e-2"
   ]
  },
  {
   "cell_type": "code",
   "execution_count": 56,
   "metadata": {},
   "outputs": [
    {
     "name": "stdout",
     "output_type": "stream",
     "text": [
      "Iteration 0\n",
      "Iteration 500\n",
      "Iteration 1000\n",
      "Iteration 1500\n",
      "Iteration 2000\n",
      "Iteration 2500\n",
      "Iteration 3000\n",
      "Iteration 3500\n",
      "Iteration 4000\n",
      "Iteration 4500\n",
      "Iteration 5000\n",
      "Iteration 5500\n",
      "Iteration 6000\n",
      "Iteration 6500\n"
     ]
    }
   ],
   "source": [
    "loss_log = []\n",
    "\n",
    "for i in range(num_iterations):\n",
    "  if i % 500 == 0:\n",
    "    print(\"Iteration\", i)\n",
    "\n",
    "  with tf.GradientTape() as tape:\n",
    "    tape.watch([m_pred, c_pred])\n",
    "    x, y = generate_batch(batch_size=32)\n",
    "    y_pred = tf.reduce_sum(x * m_pred) + c_pred\n",
    "    diffs = y - y_pred\n",
    "    mse = 1/2 * tf.reduce_mean(diffs ** 2)\n",
    "  \n",
    "    dloss_dm, dloss_dc = tape.gradient(mse, [m_pred, c_pred])\n",
    "    m_pred -= learning_rate * dloss_dm\n",
    "    c_pred -= learning_rate * dloss_dc\n",
    "    loss_log.append(mse)"
   ]
  },
  {
   "cell_type": "code",
   "execution_count": 75,
   "metadata": {},
   "outputs": [],
   "source": [
    "loss_log = []\n",
    "\n",
    "for i in range(num_iterations):\n",
    "  x, y = generate_batch(batch_size=32)\n",
    "  y_pred = tf.reduce_sum(x * m_pred) + c_pred\n",
    "  diffs = y - y_pred\n",
    "  mse = 1/2 * tf.reduce_mean(diffs ** 2)\n",
    "  dloss_dm = -tf.reduce_mean(x * diffs, axis=0)\n",
    "  dloss_dc = -tf.reduce_mean(diffs)\n",
    "  m_pred -= learning_rate * dloss_dm\n",
    "  c_pred -= learning_rate * dloss_dc\n",
    "  loss_log.append(mse)"
   ]
  },
  {
   "cell_type": "code",
   "execution_count": 76,
   "metadata": {},
   "outputs": [
    {
     "data": {
      "text/plain": [
       "(<tf.Tensor: shape=(4,), dtype=float32, numpy=array([ 1.6979747,  3.664819 ,  5.7065372, 16.66851  ], dtype=float32)>,\n",
       " <tf.Tensor: shape=(), dtype=float32, numpy=10.161826>)"
      ]
     },
     "execution_count": 76,
     "metadata": {},
     "output_type": "execute_result"
    }
   ],
   "source": [
    "m_pred, c_pred"
   ]
  },
  {
   "cell_type": "code",
   "execution_count": 68,
   "metadata": {},
   "outputs": [
    {
     "data": {
      "text/plain": [
       "[<matplotlib.lines.Line2D at 0x224e550b5e0>]"
      ]
     },
     "execution_count": 68,
     "metadata": {},
     "output_type": "execute_result"
    },
    {
     "data": {
      "image/png": "[encoded data removed]",
      "text/plain": [
       "<Figure size 432x288 with 1 Axes>"
      ]
     },
     "metadata": {
      "needs_background": "light"
     },
     "output_type": "display_data"
    }
   ],
   "source": [
    "plt.plot(loss_log)"
   ]
  }
 ],
 "metadata": {
  "interpreter": {
   "hash": "945ea36e656d6aa26ebe4bdd7128e099cc0e42d2c2118248527baa71decc73b8"
  },
  "kernelspec": {
   "display_name": "Python 3.8.10 64-bit",
   "language": "python",
   "name": "python3"
  },
  "language_info": {
   "codemirror_mode": {
    "name": "ipython",
    "version": 3
   },
   "file_extension": ".py",
   "mimetype": "text/x-python",
   "name": "python",
   "nbconvert_exporter": "python",
   "pygments_lexer": "ipython3",
   "version": "3.8.10"
  },
  "orig_nbformat": 4
 },
 "nbformat": 4,
 "nbformat_minor": 2
}
