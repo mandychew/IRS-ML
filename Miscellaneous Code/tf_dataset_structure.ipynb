{
 "cells": [
  {
   "cell_type": "code",
   "execution_count": 1,
   "metadata": {},
   "outputs": [],
   "source": [
    "import tensorflow as tf\n",
    "import numpy as np"
   ]
  },
  {
   "cell_type": "code",
   "execution_count": null,
   "metadata": {},
   "outputs": [],
   "source": [
    "def window2(series, bsize, npast=10, nfuture=10, shift=1):\n",
    "    d = tf.data.Dataset.from_tensor_slices(series)\n",
    "    d = d.window(size=npast + nfuture, shift = shift, drop_remainder=True)\n",
    "    d = d.flat_map(lambda w: w.batch(npast + nfuture))\n",
    "    d = d.map(lambda w: (w[:npast,:4], (w[npast:,:4], w[npast:,4])))\n",
    "    return d.batch(bsize).prefetch(1)"
   ]
  },
  {
   "cell_type": "code",
   "execution_count": null,
   "metadata": {},
   "outputs": [],
   "source": [
    "def structure(d):\n",
    "    for x, (p, c) in d:\n",
    "        print(np.array(x).shape, [np.array(p).shape, np.array(c).shape])"
   ]
  }
 ],
 "metadata": {
  "interpreter": {
   "hash": "7c1245b53e1ac3e3ad0b9c04975c6ada1b452cda2323d5254bedd444152d9115"
  },
  "kernelspec": {
   "display_name": "Python 3.9.12 64-bit",
   "language": "python",
   "name": "python3"
  },
  "language_info": {
   "codemirror_mode": {
    "name": "ipython",
    "version": 3
   },
   "file_extension": ".py",
   "mimetype": "text/x-python",
   "name": "python",
   "nbconvert_exporter": "python",
   "pygments_lexer": "ipython3",
   "version": "3.9.12"
  },
  "orig_nbformat": 4
 },
 "nbformat": 4,
 "nbformat_minor": 2
}
